{
 "cells": [
  {
   "cell_type": "code",
   "execution_count": 1,
   "metadata": {},
   "outputs": [],
   "source": [
    "import pymysql\n",
    "import random\n",
    "import string"
   ]
  },
  {
   "cell_type": "code",
   "execution_count": 2,
   "metadata": {},
   "outputs": [],
   "source": [
    "_db = pymysql.connect(\n",
    "        host='localhost',\n",
    "        port= 3306,\n",
    "        user='root',\n",
    "        password='java',\n",
    "        db='os'\n",
    "    )\n",
    "cursor = _db.cursor(pymysql.cursors.DictCursor)"
   ]
  },
  {
   "cell_type": "code",
   "execution_count": 4,
   "metadata": {},
   "outputs": [
    {
     "data": {
      "text/plain": [
       "'abcdefghijklmnopqrstuvwxyz'"
      ]
     },
     "execution_count": 4,
     "metadata": {},
     "output_type": "execute_result"
    }
   ],
   "source": [
    "letter_set = string.ascii_lowercase\n",
    "letter_set"
   ]
  },
  {
   "cell_type": "code",
   "execution_count": 16,
   "metadata": {},
   "outputs": [],
   "source": [
    "name_list = []\n",
    "for i in range(50):\n",
    "    random_data = random.sample(letter_set, 5)\n",
    "    data = \"\".join(random_data)\n",
    "    if data not in name_list:\n",
    "        name_list.append(data)\n",
    "    #길이가 50이 되면 반복문 종료\n",
    "    if len(name_list) == 50:\n",
    "        break\n"
   ]
  },
  {
   "cell_type": "code",
   "execution_count": 18,
   "metadata": {},
   "outputs": [
    {
     "data": {
      "text/plain": [
       "50"
      ]
     },
     "execution_count": 18,
     "metadata": {},
     "output_type": "execute_result"
    }
   ],
   "source": [
    "len(name_list)"
   ]
  },
  {
   "cell_type": "code",
   "execution_count": 19,
   "metadata": {},
   "outputs": [],
   "source": [
    "addr = ['강북','강남','강동','강서']\n",
    "addr_list = []\n",
    "for i in range(50):\n",
    "    data = random.choice(addr)\n",
    "    addr_list.append(data)"
   ]
  },
  {
   "cell_type": "code",
   "execution_count": 21,
   "metadata": {},
   "outputs": [
    {
     "data": {
      "text/plain": [
       "50"
      ]
     },
     "execution_count": 21,
     "metadata": {},
     "output_type": "execute_result"
    }
   ],
   "source": [
    "len(addr_list)"
   ]
  },
  {
   "cell_type": "code",
   "execution_count": 22,
   "metadata": {},
   "outputs": [],
   "source": [
    "cate = [0,1,2]\n",
    "cate_list = []\n",
    "for i in range(50):\n",
    "    data = random.choice(cate)\n",
    "    cate_list.append(data)"
   ]
  },
  {
   "cell_type": "code",
   "execution_count": 23,
   "metadata": {},
   "outputs": [
    {
     "data": {
      "text/plain": [
       "50"
      ]
     },
     "execution_count": 23,
     "metadata": {},
     "output_type": "execute_result"
    }
   ],
   "source": [
    "len(cate_list)"
   ]
  },
  {
   "cell_type": "code",
   "execution_count": 25,
   "metadata": {},
   "outputs": [],
   "source": [
    "letter_set2 = '1234567890'\n",
    "tel_list = []\n",
    "\n",
    "for i in range(50):\n",
    "    random_data1 =  random.sample(letter_set2,4)\n",
    "    random_data2 =  random.sample(letter_set2,4)\n",
    "    data1 = \"\".join(random_data1)\n",
    "    data2 = \"\".join(random_data2)\n",
    "    data = '010-'+data1+'-'+data2\n",
    "    tel_list.append(data)\n"
   ]
  },
  {
   "cell_type": "code",
   "execution_count": 26,
   "metadata": {},
   "outputs": [
    {
     "data": {
      "text/plain": [
       "['010-2307-7369',\n",
       " '010-9536-0675',\n",
       " '010-7523-7936',\n",
       " '010-4682-1548',\n",
       " '010-6179-6419',\n",
       " '010-8947-1609',\n",
       " '010-8579-0395',\n",
       " '010-2076-2638',\n",
       " '010-5307-0671',\n",
       " '010-0329-5927',\n",
       " '010-0439-2506',\n",
       " '010-3917-0287',\n",
       " '010-0684-0618',\n",
       " '010-2748-9041',\n",
       " '010-3961-8049',\n",
       " '010-4675-0382',\n",
       " '010-2160-4213',\n",
       " '010-1734-0724',\n",
       " '010-7493-6932',\n",
       " '010-6507-4271',\n",
       " '010-4083-2493',\n",
       " '010-3189-3905',\n",
       " '010-6750-5438',\n",
       " '010-6380-3645',\n",
       " '010-2560-3401',\n",
       " '010-2583-5364',\n",
       " '010-8026-6501',\n",
       " '010-1473-1032',\n",
       " '010-2963-1602',\n",
       " '010-1037-1204',\n",
       " '010-6452-8035',\n",
       " '010-4086-3028',\n",
       " '010-7065-2695',\n",
       " '010-7954-6754',\n",
       " '010-0127-3980',\n",
       " '010-0635-5170',\n",
       " '010-3426-9621',\n",
       " '010-2351-3140',\n",
       " '010-1926-0972',\n",
       " '010-8715-4102',\n",
       " '010-9184-2613',\n",
       " '010-9364-0248',\n",
       " '010-5214-0231',\n",
       " '010-4790-7892',\n",
       " '010-3290-3940',\n",
       " '010-5063-5438',\n",
       " '010-1749-7618',\n",
       " '010-7589-6019',\n",
       " '010-8071-0347',\n",
       " '010-9708-4519']"
      ]
     },
     "execution_count": 26,
     "metadata": {},
     "output_type": "execute_result"
    }
   ],
   "source": [
    "tel_list"
   ]
  },
  {
   "cell_type": "code",
   "execution_count": 28,
   "metadata": {},
   "outputs": [
    {
     "ename": "IntegrityError",
     "evalue": "(1062, \"Duplicate entry 'vrncw' for key 'studio.PRIMARY'\")",
     "output_type": "error",
     "traceback": [
      "\u001b[1;31m---------------------------------------------------------------------------\u001b[0m",
      "\u001b[1;31mIntegrityError\u001b[0m                            Traceback (most recent call last)",
      "\u001b[1;32mc:\\apps\\pandas\\EG-python-main\\sample2\\dummy2.ipynb 셀 12\u001b[0m line \u001b[0;36m1\n\u001b[0;32m      <a href='vscode-notebook-cell:/c%3A/apps/pandas/EG-python-main/sample2/dummy2.ipynb#X14sZmlsZQ%3D%3D?line=8'>9</a>\u001b[0m \u001b[39mfor\u001b[39;00m i \u001b[39min\u001b[39;00m \u001b[39mrange\u001b[39m(\u001b[39m50\u001b[39m):\n\u001b[0;32m     <a href='vscode-notebook-cell:/c%3A/apps/pandas/EG-python-main/sample2/dummy2.ipynb#X14sZmlsZQ%3D%3D?line=9'>10</a>\u001b[0m     value \u001b[39m=\u001b[39m [name_list[i],addr_list[i],tel_list[i],cate_list[i]]\n\u001b[1;32m---> <a href='vscode-notebook-cell:/c%3A/apps/pandas/EG-python-main/sample2/dummy2.ipynb#X14sZmlsZQ%3D%3D?line=10'>11</a>\u001b[0m     cursor\u001b[39m.\u001b[39;49mexecute(sql, value)\n\u001b[0;32m     <a href='vscode-notebook-cell:/c%3A/apps/pandas/EG-python-main/sample2/dummy2.ipynb#X14sZmlsZQ%3D%3D?line=11'>12</a>\u001b[0m _db\u001b[39m.\u001b[39mcommit()\n",
      "File \u001b[1;32mc:\\Users\\eungok\\AppData\\Local\\Programs\\Python\\Python310\\lib\\site-packages\\pymysql\\cursors.py:153\u001b[0m, in \u001b[0;36mCursor.execute\u001b[1;34m(self, query, args)\u001b[0m\n\u001b[0;32m    149\u001b[0m     \u001b[39mpass\u001b[39;00m\n\u001b[0;32m    151\u001b[0m query \u001b[39m=\u001b[39m \u001b[39mself\u001b[39m\u001b[39m.\u001b[39mmogrify(query, args)\n\u001b[1;32m--> 153\u001b[0m result \u001b[39m=\u001b[39m \u001b[39mself\u001b[39;49m\u001b[39m.\u001b[39;49m_query(query)\n\u001b[0;32m    154\u001b[0m \u001b[39mself\u001b[39m\u001b[39m.\u001b[39m_executed \u001b[39m=\u001b[39m query\n\u001b[0;32m    155\u001b[0m \u001b[39mreturn\u001b[39;00m result\n",
      "File \u001b[1;32mc:\\Users\\eungok\\AppData\\Local\\Programs\\Python\\Python310\\lib\\site-packages\\pymysql\\cursors.py:322\u001b[0m, in \u001b[0;36mCursor._query\u001b[1;34m(self, q)\u001b[0m\n\u001b[0;32m    320\u001b[0m conn \u001b[39m=\u001b[39m \u001b[39mself\u001b[39m\u001b[39m.\u001b[39m_get_db()\n\u001b[0;32m    321\u001b[0m \u001b[39mself\u001b[39m\u001b[39m.\u001b[39m_clear_result()\n\u001b[1;32m--> 322\u001b[0m conn\u001b[39m.\u001b[39;49mquery(q)\n\u001b[0;32m    323\u001b[0m \u001b[39mself\u001b[39m\u001b[39m.\u001b[39m_do_get_result()\n\u001b[0;32m    324\u001b[0m \u001b[39mreturn\u001b[39;00m \u001b[39mself\u001b[39m\u001b[39m.\u001b[39mrowcount\n",
      "File \u001b[1;32mc:\\Users\\eungok\\AppData\\Local\\Programs\\Python\\Python310\\lib\\site-packages\\pymysql\\connections.py:558\u001b[0m, in \u001b[0;36mConnection.query\u001b[1;34m(self, sql, unbuffered)\u001b[0m\n\u001b[0;32m    556\u001b[0m     sql \u001b[39m=\u001b[39m sql\u001b[39m.\u001b[39mencode(\u001b[39mself\u001b[39m\u001b[39m.\u001b[39mencoding, \u001b[39m\"\u001b[39m\u001b[39msurrogateescape\u001b[39m\u001b[39m\"\u001b[39m)\n\u001b[0;32m    557\u001b[0m \u001b[39mself\u001b[39m\u001b[39m.\u001b[39m_execute_command(COMMAND\u001b[39m.\u001b[39mCOM_QUERY, sql)\n\u001b[1;32m--> 558\u001b[0m \u001b[39mself\u001b[39m\u001b[39m.\u001b[39m_affected_rows \u001b[39m=\u001b[39m \u001b[39mself\u001b[39;49m\u001b[39m.\u001b[39;49m_read_query_result(unbuffered\u001b[39m=\u001b[39;49munbuffered)\n\u001b[0;32m    559\u001b[0m \u001b[39mreturn\u001b[39;00m \u001b[39mself\u001b[39m\u001b[39m.\u001b[39m_affected_rows\n",
      "File \u001b[1;32mc:\\Users\\eungok\\AppData\\Local\\Programs\\Python\\Python310\\lib\\site-packages\\pymysql\\connections.py:822\u001b[0m, in \u001b[0;36mConnection._read_query_result\u001b[1;34m(self, unbuffered)\u001b[0m\n\u001b[0;32m    820\u001b[0m \u001b[39melse\u001b[39;00m:\n\u001b[0;32m    821\u001b[0m     result \u001b[39m=\u001b[39m MySQLResult(\u001b[39mself\u001b[39m)\n\u001b[1;32m--> 822\u001b[0m     result\u001b[39m.\u001b[39;49mread()\n\u001b[0;32m    823\u001b[0m \u001b[39mself\u001b[39m\u001b[39m.\u001b[39m_result \u001b[39m=\u001b[39m result\n\u001b[0;32m    824\u001b[0m \u001b[39mif\u001b[39;00m result\u001b[39m.\u001b[39mserver_status \u001b[39mis\u001b[39;00m \u001b[39mnot\u001b[39;00m \u001b[39mNone\u001b[39;00m:\n",
      "File \u001b[1;32mc:\\Users\\eungok\\AppData\\Local\\Programs\\Python\\Python310\\lib\\site-packages\\pymysql\\connections.py:1200\u001b[0m, in \u001b[0;36mMySQLResult.read\u001b[1;34m(self)\u001b[0m\n\u001b[0;32m   1198\u001b[0m \u001b[39mdef\u001b[39;00m \u001b[39mread\u001b[39m(\u001b[39mself\u001b[39m):\n\u001b[0;32m   1199\u001b[0m     \u001b[39mtry\u001b[39;00m:\n\u001b[1;32m-> 1200\u001b[0m         first_packet \u001b[39m=\u001b[39m \u001b[39mself\u001b[39;49m\u001b[39m.\u001b[39;49mconnection\u001b[39m.\u001b[39;49m_read_packet()\n\u001b[0;32m   1202\u001b[0m         \u001b[39mif\u001b[39;00m first_packet\u001b[39m.\u001b[39mis_ok_packet():\n\u001b[0;32m   1203\u001b[0m             \u001b[39mself\u001b[39m\u001b[39m.\u001b[39m_read_ok_packet(first_packet)\n",
      "File \u001b[1;32mc:\\Users\\eungok\\AppData\\Local\\Programs\\Python\\Python310\\lib\\site-packages\\pymysql\\connections.py:772\u001b[0m, in \u001b[0;36mConnection._read_packet\u001b[1;34m(self, packet_type)\u001b[0m\n\u001b[0;32m    770\u001b[0m     \u001b[39mif\u001b[39;00m \u001b[39mself\u001b[39m\u001b[39m.\u001b[39m_result \u001b[39mis\u001b[39;00m \u001b[39mnot\u001b[39;00m \u001b[39mNone\u001b[39;00m \u001b[39mand\u001b[39;00m \u001b[39mself\u001b[39m\u001b[39m.\u001b[39m_result\u001b[39m.\u001b[39munbuffered_active \u001b[39mis\u001b[39;00m \u001b[39mTrue\u001b[39;00m:\n\u001b[0;32m    771\u001b[0m         \u001b[39mself\u001b[39m\u001b[39m.\u001b[39m_result\u001b[39m.\u001b[39munbuffered_active \u001b[39m=\u001b[39m \u001b[39mFalse\u001b[39;00m\n\u001b[1;32m--> 772\u001b[0m     packet\u001b[39m.\u001b[39;49mraise_for_error()\n\u001b[0;32m    773\u001b[0m \u001b[39mreturn\u001b[39;00m packet\n",
      "File \u001b[1;32mc:\\Users\\eungok\\AppData\\Local\\Programs\\Python\\Python310\\lib\\site-packages\\pymysql\\protocol.py:221\u001b[0m, in \u001b[0;36mMysqlPacket.raise_for_error\u001b[1;34m(self)\u001b[0m\n\u001b[0;32m    219\u001b[0m \u001b[39mif\u001b[39;00m DEBUG:\n\u001b[0;32m    220\u001b[0m     \u001b[39mprint\u001b[39m(\u001b[39m\"\u001b[39m\u001b[39merrno =\u001b[39m\u001b[39m\"\u001b[39m, errno)\n\u001b[1;32m--> 221\u001b[0m err\u001b[39m.\u001b[39;49mraise_mysql_exception(\u001b[39mself\u001b[39;49m\u001b[39m.\u001b[39;49m_data)\n",
      "File \u001b[1;32mc:\\Users\\eungok\\AppData\\Local\\Programs\\Python\\Python310\\lib\\site-packages\\pymysql\\err.py:143\u001b[0m, in \u001b[0;36mraise_mysql_exception\u001b[1;34m(data)\u001b[0m\n\u001b[0;32m    141\u001b[0m \u001b[39mif\u001b[39;00m errorclass \u001b[39mis\u001b[39;00m \u001b[39mNone\u001b[39;00m:\n\u001b[0;32m    142\u001b[0m     errorclass \u001b[39m=\u001b[39m InternalError \u001b[39mif\u001b[39;00m errno \u001b[39m<\u001b[39m \u001b[39m1000\u001b[39m \u001b[39melse\u001b[39;00m OperationalError\n\u001b[1;32m--> 143\u001b[0m \u001b[39mraise\u001b[39;00m errorclass(errno, errval)\n",
      "\u001b[1;31mIntegrityError\u001b[0m: (1062, \"Duplicate entry 'vrncw' for key 'studio.PRIMARY'\")"
     ]
    }
   ],
   "source": [
    "sql = \"\"\"\n",
    "    INSERT\n",
    "    INTO\n",
    "    studio\n",
    "    VALUES\n",
    "    (%s,%s,%s,%s)\n",
    "    \"\"\"\n",
    "\n",
    "for i in range(50):\n",
    "    value = [name_list[i],addr_list[i],tel_list[i],cate_list[i]]\n",
    "    cursor.execute(sql, value)\n",
    "_db.commit()"
   ]
  }
 ],
 "metadata": {
  "kernelspec": {
   "display_name": "Python 3",
   "language": "python",
   "name": "python3"
  },
  "language_info": {
   "codemirror_mode": {
    "name": "ipython",
    "version": 3
   },
   "file_extension": ".py",
   "mimetype": "text/x-python",
   "name": "python",
   "nbconvert_exporter": "python",
   "pygments_lexer": "ipython3",
   "version": "3.10.9"
  },
  "orig_nbformat": 4
 },
 "nbformat": 4,
 "nbformat_minor": 2
}
