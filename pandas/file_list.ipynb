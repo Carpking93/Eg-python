{
 "cells": [
  {
   "cell_type": "markdown",
   "metadata": {},
   "source": [
    "1.특정한 경로에 있는 파일의 목록을 로드\n",
    "2.목록들을 모두 데이터프레임 로드(read_함수를 이용)\n",
    "3.단순한 행 결합을 이용하여 하나의 데이터프레임 형성"
   ]
  },
  {
   "cell_type": "code",
   "execution_count": 4,
   "metadata": {},
   "outputs": [
    {
     "name": "stdout",
     "output_type": "stream",
     "text": [
      "Requirement already satisfied: pandas in c:\\users\\eungok\\appdata\\local\\programs\\python\\python310\\lib\\site-packages (2.0.3)\n",
      "Requirement already satisfied: python-dateutil>=2.8.2 in c:\\users\\eungok\\appdata\\local\\programs\\python\\python310\\lib\\site-packages (from pandas) (2.8.2)\n",
      "Requirement already satisfied: pytz>=2020.1 in c:\\users\\eungok\\appdata\\local\\programs\\python\\python310\\lib\\site-packages (from pandas) (2023.3)\n",
      "Requirement already satisfied: tzdata>=2022.1 in c:\\users\\eungok\\appdata\\local\\programs\\python\\python310\\lib\\site-packages (from pandas) (2023.3)\n",
      "Requirement already satisfied: numpy>=1.21.0 in c:\\users\\eungok\\appdata\\local\\programs\\python\\python310\\lib\\site-packages (from pandas) (1.25.1)\n",
      "Requirement already satisfied: six>=1.5 in c:\\users\\eungok\\appdata\\local\\programs\\python\\python310\\lib\\site-packages (from python-dateutil>=2.8.2->pandas) (1.16.0)\n",
      "Requirement already satisfied: openpyxl in c:\\users\\eungok\\appdata\\local\\programs\\python\\python310\\lib\\site-packages (3.1.2)\n",
      "Requirement already satisfied: et-xmlfile in c:\\users\\eungok\\appdata\\local\\programs\\python\\python310\\lib\\site-packages (from openpyxl) (1.1.0)\n"
     ]
    }
   ],
   "source": [
    "!pip install pandas\n",
    "!pip install openpyxl"
   ]
  },
  {
   "cell_type": "code",
   "execution_count": 5,
   "metadata": {},
   "outputs": [],
   "source": [
    "#라이브러리 로드\n",
    "import pandas as pd\n",
    "import os\n",
    "import openpyxl"
   ]
  },
  {
   "cell_type": "code",
   "execution_count": 6,
   "metadata": {},
   "outputs": [
    {
     "data": {
      "text/plain": [
       "['201701_expense_list.csv',\n",
       " '201702_expense_list.csv',\n",
       " '201703_expense_list.csv',\n",
       " '201704_expense_list.csv',\n",
       " '201705_expense_list.csv',\n",
       " '201706_expense_list.csv',\n",
       " '201707_expense_list.csv',\n",
       " '201708_expense_list.csv',\n",
       " '201709_expense_list.csv',\n",
       " '201710_expense_list.csv',\n",
       " '201711_expense_list.csv',\n",
       " '201712_expense_list.csv']"
      ]
     },
     "execution_count": 6,
     "metadata": {},
     "output_type": "execute_result"
    }
   ],
   "source": [
    "# 특정한 경로의 파일의 목록\n",
    "# listdir(경로)\n",
    "# os라이브러리 안에 있는 함수\n",
    "os.listdir(\"./csv/2017/\")"
   ]
  },
  {
   "cell_type": "code",
   "execution_count": null,
   "metadata": {},
   "outputs": [],
   "source": [
    "df = pd.DataFrame(\n",
    "    {\n",
    "        'id' : ['test','test2','test3'],\n",
    "        'age' : [20,30,40]\n",
    "    }\n",
    ")\n",
    "df2 = pd.DataFrame(\n",
    "    {\n",
    "        'id' :['test4','test5',],\n",
    "        'age' : [20,30,40]\n",
    "    }\n",
    ")"
   ]
  },
  {
   "cell_type": "code",
   "execution_count": 8,
   "metadata": {},
   "outputs": [],
   "source": [
    "#df.concat()"
   ]
  },
  {
   "cell_type": "code",
   "execution_count": 10,
   "metadata": {},
   "outputs": [
    {
     "name": "stdout",
     "output_type": "stream",
     "text": [
      "./csv/2017/201701_expense_list.csv\n",
      "./csv/2017/201702_expense_list.csv\n",
      "./csv/2017/201703_expense_list.csv\n",
      "./csv/2017/201704_expense_list.csv\n",
      "./csv/2017/201705_expense_list.csv\n",
      "./csv/2017/201706_expense_list.csv\n",
      "./csv/2017/201707_expense_list.csv\n",
      "./csv/2017/201708_expense_list.csv\n",
      "./csv/2017/201709_expense_list.csv\n",
      "./csv/2017/201710_expense_list.csv\n",
      "./csv/2017/201711_expense_list.csv\n",
      "./csv/2017/201712_expense_list.csv\n"
     ]
    }
   ],
   "source": [
    "file_path = \"./csv/2017/\"\n",
    "file_list = os.listdir(file_path)\n",
    "\n",
    "# 빈 데이터프레임 생성\n",
    "df_2017 = pd.DataFrame()\n",
    "\n",
    "\n",
    "for i in file_list:\n",
    "    print(file_path + i)\n",
    "    df = pd.read_csv(file_path+i)\n",
    "    df_2017 = pd.concat([df_2017,df],axis=0)"
   ]
  },
  {
   "cell_type": "code",
   "execution_count": 11,
   "metadata": {},
   "outputs": [
    {
     "name": "stdout",
     "output_type": "stream",
     "text": [
      "<class 'pandas.core.frame.DataFrame'>\n",
      "RangeIndex: 5517 entries, 0 to 5516\n",
      "Data columns (total 20 columns):\n",
      " #   Column             Non-Null Count  Dtype  \n",
      "---  ------             --------------  -----  \n",
      " 0   nid                5517 non-null   int64  \n",
      " 1   title              5517 non-null   object \n",
      " 2   url                5517 non-null   object \n",
      " 3   dept_nm_lvl_1      5517 non-null   object \n",
      " 4   dept_nm_lvl_2      5517 non-null   object \n",
      " 5   dept_nm_lvl_3      4842 non-null   object \n",
      " 6   dept_nm_lvl_4      1350 non-null   object \n",
      " 7   dept_nm_lvl_5      252 non-null    object \n",
      " 8   exec_yr            5517 non-null   int64  \n",
      " 9   exec_month         5517 non-null   int64  \n",
      " 10  expense_budget     274 non-null    float64\n",
      " 11  expense_execution  202 non-null    float64\n",
      " 12  category           115 non-null    object \n",
      " 13  dept_nm_full       5517 non-null   object \n",
      " 14  exec_dt            5517 non-null   object \n",
      " 15  exec_loc           5467 non-null   object \n",
      " 16  exec_purpose       5516 non-null   object \n",
      " 17  target_nm          5486 non-null   object \n",
      " 18  payment_method     5514 non-null   object \n",
      " 19  exec_amount        5517 non-null   int64  \n",
      "dtypes: float64(2), int64(4), object(14)\n",
      "memory usage: 862.2+ KB\n"
     ]
    }
   ],
   "source": [
    "pd.read_csv(\"./csv/2017/201701_expense_list.csv\").info()"
   ]
  },
  {
   "cell_type": "code",
   "execution_count": 12,
   "metadata": {},
   "outputs": [
    {
     "name": "stdout",
     "output_type": "stream",
     "text": [
      "<class 'pandas.core.frame.DataFrame'>\n",
      "Index: 70132 entries, 0 to 7285\n",
      "Data columns (total 20 columns):\n",
      " #   Column             Non-Null Count  Dtype  \n",
      "---  ------             --------------  -----  \n",
      " 0   nid                70132 non-null  int64  \n",
      " 1   title              70132 non-null  object \n",
      " 2   url                70132 non-null  object \n",
      " 3   dept_nm_lvl_1      70132 non-null  object \n",
      " 4   dept_nm_lvl_2      70074 non-null  object \n",
      " 5   dept_nm_lvl_3      61262 non-null  object \n",
      " 6   dept_nm_lvl_4      17939 non-null  object \n",
      " 7   dept_nm_lvl_5      3474 non-null   object \n",
      " 8   exec_yr            70132 non-null  int64  \n",
      " 9   exec_month         70132 non-null  int64  \n",
      " 10  expense_budget     3108 non-null   float64\n",
      " 11  expense_execution  2805 non-null   float64\n",
      " 12  category           1259 non-null   object \n",
      " 13  dept_nm_full       70053 non-null  object \n",
      " 14  exec_dt            70132 non-null  object \n",
      " 15  exec_loc           69360 non-null  object \n",
      " 16  exec_purpose       70110 non-null  object \n",
      " 17  target_nm          69597 non-null  object \n",
      " 18  payment_method     69929 non-null  object \n",
      " 19  exec_amount        70132 non-null  int64  \n",
      "dtypes: float64(2), int64(4), object(14)\n",
      "memory usage: 11.2+ MB\n"
     ]
    }
   ],
   "source": [
    "df_2017.info()"
   ]
  },
  {
   "cell_type": "code",
   "execution_count": 13,
   "metadata": {},
   "outputs": [],
   "source": [
    "file_path = \"./csv/2019/\"\n",
    "file_list = os.listdir(file_path)\n",
    "\n",
    "df_2019 = pd.DataFrame()\n",
    "\n",
    "for i in file_list:\n",
    "    df = pd.read_json(file_path+i)\n",
    "    df_2019 = pd.concat([df_2019,df],axis=0)"
   ]
  },
  {
   "cell_type": "code",
   "execution_count": 14,
   "metadata": {},
   "outputs": [
    {
     "name": "stdout",
     "output_type": "stream",
     "text": [
      "<class 'pandas.core.frame.DataFrame'>\n",
      "Index: 74207 entries, 0 to 7843\n",
      "Data columns (total 20 columns):\n",
      " #   Column             Non-Null Count  Dtype  \n",
      "---  ------             --------------  -----  \n",
      " 0   nid                74207 non-null  int64  \n",
      " 1   title              74207 non-null  object \n",
      " 2   url                74207 non-null  object \n",
      " 3   dept_nm_lvl_1      74207 non-null  object \n",
      " 4   dept_nm_lvl_2      74207 non-null  object \n",
      " 5   dept_nm_lvl_3      74207 non-null  object \n",
      " 6   dept_nm_lvl_4      74207 non-null  object \n",
      " 7   dept_nm_lvl_5      74207 non-null  object \n",
      " 8   exec_yr            74207 non-null  int64  \n",
      " 9   exec_month         74207 non-null  int64  \n",
      " 10  expense_budget     2075 non-null   float64\n",
      " 11  expense_execution  1598 non-null   float64\n",
      " 12  category           74028 non-null  object \n",
      " 13  dept_nm_full       74207 non-null  object \n",
      " 14  exec_dt            74207 non-null  object \n",
      " 15  exec_loc           74207 non-null  object \n",
      " 16  exec_purpose       74207 non-null  object \n",
      " 17  target_nm          74207 non-null  object \n",
      " 18  payment_method     74207 non-null  object \n",
      " 19  exec_amount        74207 non-null  int64  \n",
      "dtypes: float64(2), int64(4), object(14)\n",
      "memory usage: 11.9+ MB\n"
     ]
    }
   ],
   "source": [
    "df_2019.info()"
   ]
  },
  {
   "cell_type": "code",
   "execution_count": 15,
   "metadata": {},
   "outputs": [],
   "source": [
    "file_path = \"./csv/2020/\"\n",
    "file_list = os.listdir(file_path)\n",
    "\n",
    "df_2020 = pd.DataFrame()\n",
    "\n",
    "for i in file_list:\n",
    "    df = pd.read_excel(file_path+i)\n",
    "    df_2020 = pd.concat([df_2020,df],axis=0)"
   ]
  },
  {
   "cell_type": "code",
   "execution_count": 16,
   "metadata": {},
   "outputs": [
    {
     "name": "stdout",
     "output_type": "stream",
     "text": [
      "<class 'pandas.core.frame.DataFrame'>\n",
      "Index: 70862 entries, 0 to 7814\n",
      "Data columns (total 21 columns):\n",
      " #   Column             Non-Null Count  Dtype  \n",
      "---  ------             --------------  -----  \n",
      " 0   nid                70862 non-null  int64  \n",
      " 1   title              70862 non-null  object \n",
      " 2   url                70862 non-null  object \n",
      " 3   dept_nm_lvl_1      70862 non-null  object \n",
      " 4   dept_nm_lvl_2      70862 non-null  object \n",
      " 5   dept_nm_lvl_3      55593 non-null  object \n",
      " 6   dept_nm_lvl_4      18992 non-null  object \n",
      " 7   dept_nm_lvl_5      1601 non-null   object \n",
      " 8   exec_yr            70862 non-null  int64  \n",
      " 9   exec_month         70862 non-null  int64  \n",
      " 10  expense_budget     1823 non-null   float64\n",
      " 11  expense_execution  1338 non-null   float64\n",
      " 12  category           2123 non-null   object \n",
      " 13  dept_nm_full       70862 non-null  object \n",
      " 14  exec_dt            70862 non-null  object \n",
      " 15  exec_loc           70278 non-null  object \n",
      " 16  exec_purpose       70862 non-null  object \n",
      " 17  target_nm          70488 non-null  object \n",
      " 18  payment_method     70862 non-null  object \n",
      " 19  exec_amount        70862 non-null  int64  \n",
      " 20  bimok              283 non-null    object \n",
      "dtypes: float64(2), int64(4), object(15)\n",
      "memory usage: 11.9+ MB\n"
     ]
    }
   ],
   "source": [
    "df_2020.info()"
   ]
  },
  {
   "cell_type": "code",
   "execution_count": 6,
   "metadata": {},
   "outputs": [],
   "source": [
    "def list_data(_path, _end):\n",
    "    # _path 는 파일의 경로\n",
    "    # 경로의 파일의 목록 로드\n",
    "    file_list = os.listdir(_path)\n",
    "\n",
    "    #특정한 확장자의 파일 목록을 만들기 위해 비어있는 리스트를 생성\n",
    "    file_list2 = []\n",
    "\n",
    "    for i in file_list:\n",
    "        if i.split(\".\")[-1] == '_end':\n",
    "            file_list2.append(i)\n",
    "\n",
    "    #함수의 결과값 -> 비어있는 데이터프레임\n",
    "    result = pd.DataFrame()\n",
    "\n",
    "    #반복문을 이용하여 파일 목록들을 데이터프레임 로드 하고 result에 행결합\n",
    "    for i in file_list:\n",
    "        # _end가 csv라면 read_csv()\n",
    "        # _end가 json이라면 read_json()\n",
    "        # _end가 xlsc,xls라면 read_excel()\n",
    "        if _end == 'csv':\n",
    "            df = pd.read_csv(_path + '/' +i)\n",
    "        elif _end == \"json\":\n",
    "            df = pd.read_json(_path + '/' +i)\n",
    "        elif _end in ['xlsx','xls']:\n",
    "            df = pd.read_excel(_path + '/' +i)\n",
    "        else:\n",
    "            return \"지원하지 않는 확장자입니다.\"\n",
    "        result = pd.concat([result,df],axis=0)\n",
    "\n",
    "    return result"
   ]
  },
  {
   "cell_type": "code",
   "execution_count": 7,
   "metadata": {},
   "outputs": [],
   "source": [
    "file_list = os.listdir('./csv/2021/')"
   ]
  },
  {
   "cell_type": "code",
   "execution_count": 9,
   "metadata": {},
   "outputs": [
    {
     "data": {
      "text/plain": [
       "'csv'"
      ]
     },
     "execution_count": 9,
     "metadata": {},
     "output_type": "execute_result"
    }
   ],
   "source": [
    "file_list[0].split('.')[-1]"
   ]
  },
  {
   "cell_type": "code",
   "execution_count": null,
   "metadata": {},
   "outputs": [],
   "source": [
    "#for i file_list:\n",
    "    #확장자가 csv인 경우\n",
    " #   if i.split('.')[-1] == 'xlsx':\n",
    "  #  print(i)"
   ]
  },
  {
   "cell_type": "code",
   "execution_count": 12,
   "metadata": {},
   "outputs": [
    {
     "name": "stdout",
     "output_type": "stream",
     "text": [
      "202101_expense_list.csv\n",
      "202102_expense_list.csv\n",
      "202103_expense_list.csv\n",
      "202104_expense_list.csv\n",
      "202105_expense_list.csv\n",
      "202106_expense_list.csv\n",
      "202107_expense_list.csv\n",
      "202108_expense_list.csv\n",
      "202109_expense_list.csv\n",
      "202110_expense_list.csv\n",
      "202111_expense_list.csv\n",
      "202112_expense_list.csv\n"
     ]
    }
   ],
   "source": [
    "for i in file_list:\n",
    "    #문자열의 마지막값과 비교\n",
    "    if i.endswith('csv'):\n",
    "        print(i)"
   ]
  }
 ],
 "metadata": {
  "kernelspec": {
   "display_name": "Python 3",
   "language": "python",
   "name": "python3"
  },
  "language_info": {
   "codemirror_mode": {
    "name": "ipython",
    "version": 3
   },
   "file_extension": ".py",
   "mimetype": "text/x-python",
   "name": "python",
   "nbconvert_exporter": "python",
   "pygments_lexer": "ipython3",
   "version": "3.10.9"
  },
  "orig_nbformat": 4
 },
 "nbformat": 4,
 "nbformat_minor": 2
}
